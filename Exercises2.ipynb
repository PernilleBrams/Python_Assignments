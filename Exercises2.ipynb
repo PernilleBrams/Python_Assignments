{
 "cells": [
  {
   "cell_type": "markdown",
   "metadata": {},
   "source": [
    "# Libraries"
   ]
  },
  {
   "cell_type": "code",
   "execution_count": 1,
   "metadata": {},
   "outputs": [],
   "source": [
    "import numpy"
   ]
  },
  {
   "cell_type": "markdown",
   "metadata": {},
   "source": [
    "### Exercise 2.1 (sum of two numbers)\n",
    "Create a program that asks the user for two numbers and then prints their sum.\n",
    "\n",
    "Hint. Use the function input. Recall that the function input returns a str.\n",
    "\n",
    "#### Example of use of input()\n",
    "*print(\"Enter your name:\")\n",
    "\n",
    "x = input()\n",
    "\n",
    "print(\"Hello, \" + x)*"
   ]
  },
  {
   "cell_type": "code",
   "execution_count": 11,
   "metadata": {},
   "outputs": [
    {
     "name": "stdout",
     "output_type": "stream",
     "text": [
      "This program will calculate the sum of two numbers\n",
      "Enter the 1st number:\n",
      "Cool, you entered:  12\n",
      "Thanks! Now enter the 2nd number:\n",
      "Cool, you entered:  10\n",
      "Seems like you cannot get enough of numbers. Are you ready to see the sum?\n",
      "The sum of the two numbers is:  22\n"
     ]
    }
   ],
   "source": [
    "# Example of use of input\n",
    "print(\"This program will calculate the sum of two numbers\")\n",
    "print(\"Enter the 1st number:\")\n",
    "firstnumber = input()\n",
    "print(\"Cool, you entered: \", firstnumber)\n",
    "print(\"Thanks! Now enter the 2nd number:\")\n",
    "secondnumber = input()\n",
    "print(\"Cool, you entered: \", secondnumber)\n",
    "print(\"Seems like you cannot get enough of numbers. Are you ready to see the sum?\")\n",
    "print(\"The sum of the two numbers is: \", int(firstnumber) + int(secondnumber))"
   ]
  },
  {
   "cell_type": "markdown",
   "metadata": {},
   "source": [
    "### Exercise 2.2 (sum of k numbers)\n",
    "Create a program that adds a user specified number of numbers. The program should first ask the user for a number k, then ask the user for the k numbers to add, and finally print the sum of the k numbers.\n",
    "\n",
    "Hint. Use a while-loop."
   ]
  },
  {
   "cell_type": "code",
   "execution_count": 12,
   "metadata": {},
   "outputs": [
    {
     "name": "stdout",
     "output_type": "stream",
     "text": [
      "Please enter a number k: \n",
      "You entered: k = 12, which leaves the numbers [0, 1, 2, 3, 4, 5, 6, 7, 8, 9, 10, 11, 12] to be added.\n"
     ]
    }
   ],
   "source": [
    "''' QUESTIONS: \n",
    "- Should we start from 0 or 1? important? \n",
    "'''\n",
    "\n",
    "# Asking the user for a number k\n",
    "print(\"Please enter a number k: \")\n",
    "k = input()\n",
    "\n",
    "# Making a list of what numbers are in k, so we can show the user her options\n",
    "numbers = range(int(k))\n",
    "\n",
    "k_range = []\n",
    "\n",
    "# for number in numbers:                        # FOR LOOP\n",
    "#     k_range.append(number)\n",
    "\n",
    "k_range = [number for number in numbers]        # LIST COMP\n",
    "\n",
    "# Appending the last number, cause range goes to the k-1'st number\n",
    "k_range.append(int(k))\n",
    "print(f\"You entered: k = {k}, which leaves the numbers {k_range} to be added.\") \n"
   ]
  },
  {
   "cell_type": "code",
   "execution_count": 14,
   "metadata": {},
   "outputs": [
    {
     "name": "stdout",
     "output_type": "stream",
     "text": [
      "Please enter a number k: \n",
      "You entered: k = 12, which leaves the numbers [0, 1, 2, 3, 4, 5, 6, 7, 8, 9, 10, 11] to be added.\n",
      "Please enter how far up you want to keep adding numbers, e.g. by choosing 2, only numbers up to 2 will be added.\n",
      "You entered: 7.\n",
      "Now, we will calculate the sum of the numbers in 12 up to your limit of 7.\n",
      "The sum is now: 0\n",
      "The sum is now: 1\n",
      "The sum is now: 3\n",
      "The sum is now: 6\n",
      "The sum is now: 10\n",
      "The sum is now: 15\n",
      "The sum is now: 21\n",
      "The sum is now: 28\n",
      "The final sum is: 28\n"
     ]
    }
   ],
   "source": [
    "# Asking the user for a number k\n",
    "print(\"Please enter a number k: \")\n",
    "k = int(input('Enter a number k: '))\n",
    "\n",
    "# Making a list of what numbers are in k, so we can show the user her options\n",
    "numbers = range(int(k))\n",
    "\n",
    "k_range = []\n",
    "\n",
    "for number in numbers:\n",
    "    k_range.append(number)\n",
    "\n",
    "print(f\"You entered: k = {k}, which leaves the numbers {k_range} to be added.\") \n",
    "\n",
    "# Asking the user for the k numbers to add\n",
    "print(f\"Please enter how far up you want to keep adding numbers, e.g. by choosing {k_range[2]}, only numbers up to {k_range[2]} will be added.\")\n",
    "\n",
    "limit = int(input('Enter limit of choice:'))\n",
    "\n",
    "print(f\"You entered: {limit}.\")\n",
    "\n",
    "print(f\"Now, we will calculate the sum of the numbers in {k} up to your limit of {limit}.\")\n",
    "\n",
    "# While loop: While k is below the limit, add the numbers together. \n",
    "number = 0\n",
    "sum = 0\n",
    "while number <= limit:\n",
    "    sum = sum + number\n",
    "    number = number + 1\n",
    "    print(f\"The sum is now: {sum}\")\n",
    "print(f\"The final sum is: {sum}\")\n",
    "\n",
    "\n",
    "# CAN I MAKE A FOR LOOP TAKING THE NEXT ITEM OF THE LIST? not using \"while\"... right? \n",
    "\n",
    "\n"
   ]
  },
  {
   "cell_type": "markdown",
   "metadata": {},
   "source": [
    "### Exercise 2.3 (intersection of two intervals)\n",
    "Write a program that determines if two intervals [a, b] and [c, d] overlap, where a ≤ b and c ≤ d. The program should ask the user for the four end-points a, b, c and d of the two intervals, and print if the two intervals overlap or not. If the two intervals overlap, the program should print the interval where the two input intervals overlap.\n",
    "\n",
    "Hint. Use one or more if-statements.\n",
    "\n",
    "Examples:\n",
    "\n",
    "[2, 4] and [6, 9] do not overlap\n",
    "[5, 7] and [1, 3] do not overlap\n",
    "[4, 8] and [-6, 2] do not overlap\n",
    "\n",
    "\n",
    "--\n",
    "\n",
    "[2, 5] and [3, 9] overlap in the interval [3, 5]\n",
    "\n",
    "\n",
    "[3, 6] and [1, 3] overlap in the interval [3, 3]\n",
    "[1, 8] and [2, 6] overlap in the interval [2, 6]"
   ]
  },
  {
   "cell_type": "code",
   "execution_count": 64,
   "metadata": {},
   "outputs": [
    {
     "name": "stdout",
     "output_type": "stream",
     "text": [
      "The first interval you chose was [2, 5]\n",
      "The last interval you chose was [3, 9]\n",
      "AB overlaps with 3 which also exists in CD\n",
      "AB overlaps with 4 which also exists in CD\n",
      "AB overlaps with 5 which also exists in CD\n",
      "[2, 5] and [3, 9] overlap in the interval [3, 5]\n"
     ]
    }
   ],
   "source": [
    "# Defining inputs\n",
    "a = int(input('Enter a: '))\n",
    "b = int(input('Enter b: '))\n",
    "print(f\"The first interval you chose was {[a,b]}.\")\n",
    "c = int(input('Enter c: '))\n",
    "d = int(input('Enter d: '))\n",
    "print(f\"The last interval you chose was {[c,d]}.\")\n",
    "\n",
    "# Making the intervals. Adding 1 because range function works like an [) interval.\n",
    "ab = list(range(a,b+1))\n",
    "cd = list(range(c,d+1))\n",
    "\n",
    "# If element in AB is in CD, print whether they overlap, and what number. Print the final overlapping interval.\n",
    "overlap_list = []\n",
    "\n",
    "for i in ab:\n",
    "    if i in cd:\n",
    "        print(f\"AB overlaps with {i} which also exists in CD\")\n",
    "        overlap_list.append(i)\n",
    "    # Lists with length 0 (which it is if there are no overlaps) have the boolean value of FALSE, so\n",
    "    elif overlap_list == False:\n",
    "        print(f\"The intervals {[a,b]} and {[c,d]} do not overlap.\")\n",
    "\n",
    "\n",
    "overlap_interval = [overlap_list[0],overlap_list[-1]] # Getting first and last element\n",
    "print(f\"{[a,b]} and {[c,d]} overlap in the interval {overlap_interval}\")\n",
    "\n"
   ]
  },
  {
   "cell_type": "markdown",
   "metadata": {},
   "source": [
    "### Exercise 2.4 (integer square root)\n",
    "Consider the following program for finding the integer square root of an integer:\n",
    "\n",
    "x = int(input('x: '))\n",
    "\n",
    "low = 0\n",
    "high = x + 1\n",
    "\n",
    "while True:  # low <= sqrt(x) < high\n",
    "    if low + 1 == high:\n",
    "        break\n",
    "\n",
    "    mid = (high + low) // 2\n",
    "\n",
    "    if mid * mid <= x:\n",
    "        low = mid\n",
    "        continue\n",
    "\n",
    "    high = mid\n",
    "\n",
    "print(low)  # low = floor(sqrt(x))\n",
    "Walk through and understand the program.\n",
    "\n",
    "Try to simplify the program, getting rid of the break and continue statements."
   ]
  },
  {
   "cell_type": "code",
   "execution_count": null,
   "metadata": {},
   "outputs": [],
   "source": [
    "\n",
    "x = int(input('x: '))\n",
    "\n",
    "low = 0\n",
    "high = x + 1\n",
    "\n",
    "while True:  # low <= sqrt(x) < high\n",
    "    if low + 1 == high:\n",
    "        break\n",
    "\n",
    "    mid = (high + low) // 2\n",
    "\n",
    "    if mid * mid <= x:\n",
    "        low = mid\n",
    "        continue\n",
    "\n",
    "    high = mid\n",
    "\n",
    "print(low)  # low = floor(sqrt(x))"
   ]
  },
  {
   "cell_type": "markdown",
   "metadata": {},
   "source": [
    "### Exercise 2.5 (primality test)\n",
    "Write a naive program that tests if a small number x ≥ 2 is a prime number.\n",
    "\n",
    "Recall that a number is a prime number if and only if the only numbers dividing the number is 1 and the number itself, like the numbers 2, 3, 5, 7, 11, 13...\n",
    "\n",
    "The program should ask the user for the number x and print wheter the number is a prime or not. If x is not a prime, it should print a divisor/factor in the range [2, x - 1].\n",
    "\n",
    "Hint. Try all relevant factors. Use the % operator to compute the remainder by integer division, e.g. 13 % 5 == 3."
   ]
  },
  {
   "cell_type": "markdown",
   "metadata": {},
   "source": [
    "### Exercise 2.6 (integer factorization)\n",
    "Write a program that, given a positive integer x, prints the prime factors of that number. Recall that any positive number has a unique prime factorization, e.g. 126 = 2 * 3 * 3 * 7.\n",
    "\n",
    "The program should ask the user for the integer x, and then print each prime factor. Note that for x = 126, the prime factor 3 should be printed two times.\n",
    "\n",
    "Hint. Repeatedly divide x by 2 until 2 is not a prime factor any longer. Repeat the same for 3, 4, 5,... Note that 4 = 2 * 2 is not a prime number. But since its prime factors cannot be divisors of x divided by the prime factors found so far, then we will not find 4 (and any other composite number) as a prime divisor of x."
   ]
  },
  {
   "cell_type": "markdown",
   "metadata": {},
   "source": [
    "### Exercise 2.7* (Newton-Raphson square root)\n",
    "Use the Newton-Raphson method to compute the square root of a float n ≥ 1.0, by finding a root of the function f(x) = x2 - n and letting your initial approximation of the root be x = n. Recall f'(x) = 2 * x. In your computaions you can use +, -, *, and /.\n",
    "\n",
    "You can compare your result to the result of the builtin sqrt function in the math module using:\n",
    "\n",
    "import math\n",
    "print(math.sqrt(n))"
   ]
  },
  {
   "cell_type": "markdown",
   "metadata": {},
   "source": [
    "### Exercise 2.8 - handin 1 (down payment)\n",
    "Write a program to compute how many months it takes to pay down a loan, that has a fixed monthly interest rate, and the borrower makes a fixed monthly payment. The program should ask the user for three values: The size of the initial loan, the monthly interest rate in percent, and the size of the monthly payment of the borrower. The program should output for each month the size of the remaining loan.\n",
    "\n",
    "Handin format. The handin should consists of a single Python file, e.g. handin1.py. The files should start with a Python docstring (string in triple quotes, \"\"\" or ''') containing the study ids and names of the students who made the handin. A handin group consists of 1-3 students. Furthermore the docstring must contain a short reflection (5-10 lines) on your solution to the exercise. This could be a short discussion of the design choices you made during your implementation, the problems you encountered, what were the hard and easy parts to get your solution to work, what restrictions on the user input did you make, limitations in your implementation, what language features were particularly useful, ... A template for the handin is below.\n",
    "\n",
    "'''\n",
    "HANDIN 1 (down payment)\n",
    "\n",
    "This handin is done by (study ids and names of up to three students):\n",
    "\n",
    "    201500000 student name\n",
    "    201600000 student name\n",
    "    201400000 student name\n",
    "\n",
    "Reflection upon solution:\n",
    "\n",
    "    Reflection on your solution (5-10 lines), e.g. implementation\n",
    "    decisions, hard/easy parts, input restrictions, limitations, ...\n",
    "'''\n",
    "\n",
    "loan_input = input('Initial loan: ')\n",
    "...\n"
   ]
  },
  {
   "cell_type": "code",
   "execution_count": 10,
   "metadata": {},
   "outputs": [
    {
     "name": "stdout",
     "output_type": "stream",
     "text": [
      "Enter the size of the loan you want to make in DKK:\n",
      "You entered a loan of 10000 DKK.\n",
      "Enter the monthly interest rate in percent:\n",
      "You entered a monthly interest rate of 10%.\n",
      "Enter your planned monthly down payment in DKK:\n",
      "You entered a monthly down payment of 100 DKK.\n",
      "Your loan is unpayable. See you in Luksusfælden!\n"
     ]
    }
   ],
   "source": [
    "# ----- Inputs\n",
    "# NOTE: Få addet at lånet er unpayable, hvis differensen er for stor\n",
    "print(\"Enter the size of the loan you want to make in DKK:\")\n",
    "loan = input('Initial loan: ')\n",
    "print(f\"You entered a loan of {loan} DKK.\")\n",
    "\n",
    "print(\"Enter the monthly interest rate in percent:\")\n",
    "interestrate = input('Monthly interest rate: ')\n",
    "print(f\"You entered a monthly interest rate of {interestrate}%.\")\n",
    "\n",
    "print(\"Enter your planned monthly down payment in DKK:\")\n",
    "downpayment = input('Monthly down payment: ')\n",
    "print(f\"You entered a monthly down payment of {downpayment} DKK.\")\n",
    "\n",
    "# ----- Ensuring integer classes\n",
    "loan = int(loan)\n",
    "interestrate = int(interestrate)\n",
    "downpayment = int(downpayment)\n",
    "\n",
    "# ----- While-loop\n",
    "i = 0\n",
    "\n",
    "while loan > 0:\n",
    "    if loan*interestrate/100 > downpayment:\n",
    "        print(\"Your loan is unpayable. See you in Luksusfælden!\")\n",
    "        break\n",
    "    else:\n",
    "        loan = (loan+loan*(interestrate/100))-downpayment #     if loan*interestrate/100 > downpayment, print(\"Your loan is unpayable. See you in \")\n",
    "        if loan > 0:\n",
    "            print(f\"Of the loan, {loan} DKK remains unpaid.\")\n",
    "            i += 1 \n",
    "            #i = i +1\n",
    "        else:\n",
    "            print(f\"You finished paying off the loan in {i} months, answering to {i/12} year(s).\") \n"
   ]
  }
 ],
 "metadata": {
  "interpreter": {
   "hash": "a271133b32f571067dcf35a0de9a227134438681fd156f70aa9eaa20a1fedb0f"
  },
  "kernelspec": {
   "display_name": "Python 3.8.3 64-bit ('base': conda)",
   "language": "python",
   "name": "python3"
  },
  "language_info": {
   "codemirror_mode": {
    "name": "ipython",
    "version": 3
   },
   "file_extension": ".py",
   "mimetype": "text/x-python",
   "name": "python",
   "nbconvert_exporter": "python",
   "pygments_lexer": "ipython3",
   "version": "3.9.7"
  },
  "orig_nbformat": 4
 },
 "nbformat": 4,
 "nbformat_minor": 2
}
